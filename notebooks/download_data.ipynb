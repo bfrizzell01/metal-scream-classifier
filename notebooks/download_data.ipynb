{
 "cells": [
  {
   "cell_type": "code",
   "execution_count": 1,
   "metadata": {},
   "outputs": [],
   "source": [
    "import pandas as pd\n",
    "import librosa"
   ]
  },
  {
   "cell_type": "code",
   "execution_count": 5,
   "metadata": {},
   "outputs": [],
   "source": [
    "def load_scream_data(output_dir):\n",
    "    file_path = \"hf://datasets/jpdiazpardo/scream_detection_heavy_metal/data/train-00000-of-00001-a72775dc16841570.parquet\"\n",
    "    print('loading data...')\n",
    "    df = pd.read_parquet(file_path)[['audio','scream_type','song_name','band_name']]\n",
    "    print('saving to CSV')\n",
    "    df.to_csv(output_dir+'/scream_data.csv')"
   ]
  },
  {
   "cell_type": "code",
   "execution_count": 6,
   "metadata": {},
   "outputs": [
    {
     "name": "stdout",
     "output_type": "stream",
     "text": [
      "loading data...\n",
      "saving to CSV\n"
     ]
    }
   ],
   "source": [
    "load_scream_data('../data/raw')"
   ]
  }
 ],
 "metadata": {
  "kernelspec": {
   "display_name": "metal-scream-classifier",
   "language": "python",
   "name": "python3"
  },
  "language_info": {
   "codemirror_mode": {
    "name": "ipython",
    "version": 3
   },
   "file_extension": ".py",
   "mimetype": "text/x-python",
   "name": "python",
   "nbconvert_exporter": "python",
   "pygments_lexer": "ipython3",
   "version": "3.13.2"
  }
 },
 "nbformat": 4,
 "nbformat_minor": 2
}
